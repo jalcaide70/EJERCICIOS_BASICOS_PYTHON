{
 "cells": [
  {
   "cell_type": "markdown",
   "metadata": {},
   "source": [
    "# 15 Ejercicios cortos"
   ]
  },
  {
   "cell_type": "markdown",
   "metadata": {},
   "source": [
    "Este es un popurrí de ejercicios cortos sobre diseño de funciones y clases para coger algo de soltura.\n",
    "\n",
    "Cada ejercicio es independiente y no tiene relación con los anteriores (como norma general). Siéntete libre de importar las bibliotecas que quieras.\n",
    "\n",
    "En cada ejercicio deberás escribir la función/clase requerida, y probar a llamarla (o a crear una instancia) con valores de prueba."
   ]
  },
  {
   "cell_type": "markdown",
   "metadata": {},
   "source": [
    "#### 1. Escribe una función `hipotenusa` que tome como argumentos posicionales los dos catetos de un triángulo rectángulo y devuelva la hipotenusa de dicho triángulo."
   ]
  },
  {
   "cell_type": "code",
   "execution_count": 1,
   "metadata": {},
   "outputs": [
    {
     "name": "stdout",
     "output_type": "stream",
     "text": [
      "Indique el valor del primer cateto: 5\n",
      "Indique el valor del segundo cateto: 5\n",
      "El sesultado del calculo de la hipotenusa es:  7.0711\n"
     ]
    }
   ],
   "source": [
    "import math\n",
    "\n",
    "cat1 = float(input('Indique el valor del primer cateto: '))\n",
    "cat2 = float(input('Indique el valor del segundo cateto: '))\n",
    "\n",
    "def hipo(a,b):\n",
    "    res = round(math.sqrt((cat1*cat1 + cat2*cat2)), 4)\n",
    "    return print('El sesultado del calculo de la hipotenusa es: ', res)\n",
    "\n",
    "hipo(cat1,cat2)"
   ]
  },
  {
   "cell_type": "markdown",
   "metadata": {},
   "source": [
    "#### 2. Define una clase que tenga al menos dos métodos: `setString`, que fija un string pasado como argumento como *instance variable*; y `getString`, que devuelve dicho string:"
   ]
  },
  {
   "cell_type": "code",
   "execution_count": 2,
   "metadata": {},
   "outputs": [
    {
     "name": "stdout",
     "output_type": "stream",
     "text": [
      "Esta bebida es de la Marca Larios con 41 grados de alcohol.\n",
      "Esta bebida es de la Marca Cardhu con 50 grados de alcohol.\n"
     ]
    }
   ],
   "source": [
    "class Bebida(object):\n",
    "    \n",
    "    tipo = \"Alcohol\"\n",
    "    \n",
    "\n",
    "    def __init__(self, setString, grados):\n",
    "        self.marca = setString\n",
    "        self.grados = grados\n",
    "\n",
    "    def getString(self):\n",
    "        return (\"Esta bebida es de la Marca \" + self.marca + \" con \" + str(self.grados) + \" grados de alcohol.\")\n",
    "    \n",
    "ginebra = Bebida('Larios', 41)\n",
    "whisqui = Bebida('Cardhu', 50)\n",
    "\n",
    "print(ginebra.getString())\n",
    "print(whisqui.getString())"
   ]
  },
  {
   "cell_type": "markdown",
   "metadata": {},
   "source": [
    "#### 3. Escribe una función llamada `wordcount` que tome como argumento un solo string con varias palabras (separadas por espacios en blanco) y devuelva el número de palabras del string pasado:"
   ]
  },
  {
   "cell_type": "code",
   "execution_count": 3,
   "metadata": {},
   "outputs": [
    {
     "name": "stdout",
     "output_type": "stream",
     "text": [
      "el numero de palabras que tiene la cadena son:  3\n"
     ]
    }
   ],
   "source": [
    "def wordcount(cadena):\n",
    "    if len(cadena) == 0:\n",
    "        print('Debes introducir al menos una palabra')\n",
    "    else:    \n",
    "        pasar_a_cadena = cadena.split()\n",
    "        palabras = len(pasar_a_cadena) \n",
    "        print('el numero de palabras que tiene la cadena son: ', palabras) \n",
    "\n",
    "wordcount('hola soy jose')"
   ]
  },
  {
   "cell_type": "markdown",
   "metadata": {},
   "source": [
    "#### 4. Escribe una función llamada `divisibles_por_7` que tome como argumentos un número arbitrario de números enteros y devuelva una lista con solo aquellos que sean divisibles por 7 (sin dar decimales):"
   ]
  },
  {
   "cell_type": "code",
   "execution_count": 4,
   "metadata": {},
   "outputs": [
    {
     "name": "stdout",
     "output_type": "stream",
     "text": [
      "[7, 14, 21]\n"
     ]
    }
   ],
   "source": [
    "lista_def= []\n",
    "\n",
    "def divisibles_por_7(*args):\n",
    "    for i in args:\n",
    "        if i % 7  == 0: \n",
    "            lista_def.append(i)\n",
    "    return lista_def\n",
    "        \n",
    "            \n",
    "print(divisibles_por_7(1,2,7,14,21))  "
   ]
  },
  {
   "cell_type": "markdown",
   "metadata": {},
   "source": [
    "#### 5. Escribe una función `factorial` que devuelva el factorial de un número entero."
   ]
  },
  {
   "cell_type": "code",
   "execution_count": 5,
   "metadata": {},
   "outputs": [
    {
     "name": "stdout",
     "output_type": "stream",
     "text": [
      "Por favor, introduzca un número entero positivo: 6\n"
     ]
    },
    {
     "data": {
      "text/plain": [
       "720"
      ]
     },
     "execution_count": 5,
     "metadata": {},
     "output_type": "execute_result"
    }
   ],
   "source": [
    "n = int(input('Por favor, introduzca un número entero positivo: '))\n",
    "\n",
    "def factorial(n):\n",
    "    if n == 0 or n == 1:\n",
    "        resultado = 1\n",
    "    else:\n",
    "        resultado=n*factorial(n-1)\n",
    "    return resultado\n",
    "\n",
    "\n",
    "factorial(n)"
   ]
  },
  {
   "cell_type": "markdown",
   "metadata": {},
   "source": [
    "####  6. Escribe una función `manhattan` que compute la distancia de Manhattan entre dos puntos bidimensionales (donde cada uno de estos puntos tiene coordenadas de la forma `(x,y)`):"
   ]
  },
  {
   "cell_type": "code",
   "execution_count": 6,
   "metadata": {},
   "outputs": [
    {
     "name": "stdout",
     "output_type": "stream",
     "text": [
      "la distancia manhattan es: 7\n"
     ]
    }
   ],
   "source": [
    "def manhattan(start, end):\n",
    "    x = abs(end[0] - start[0])\n",
    "    y = abs(end[1] - start[1])\n",
    "    return x + y\n",
    "\n",
    "start = (1,1)\n",
    "end = (-5,0)\n",
    "\n",
    "print('la distancia manhattan es:',manhattan(start, end))"
   ]
  },
  {
   "cell_type": "markdown",
   "metadata": {},
   "source": [
    "#### 7. Define una función `overlapping` que tome como argumento dos colecciones. Si ambas colecciones tienen al menos un elemento en común, debe devolver `True`. Si no es así, debe devolver `False`:"
   ]
  },
  {
   "cell_type": "code",
   "execution_count": 7,
   "metadata": {},
   "outputs": [
    {
     "name": "stdout",
     "output_type": "stream",
     "text": [
      "TRUE\n"
     ]
    }
   ],
   "source": [
    "col1=[1,2,3]\n",
    "col2=[1,4,6,100]\n",
    "comparacion = []\n",
    "\n",
    "def overlapping(col1,col2):\n",
    "    for i in col1:\n",
    "        if i in col2:\n",
    "            comparacion.append(i)\n",
    "    if len(comparacion) > 0:\n",
    "        print('TRUE')\n",
    "        \n",
    "    else:\n",
    "        print('FALSE')\n",
    "                \n",
    "overlapping(col1,col2)         \n",
    "            "
   ]
  },
  {
   "cell_type": "markdown",
   "metadata": {},
   "source": [
    "#### 8. Define una función `filtrar_palabras_largas` que tome como argumento una lista de palabras (strings), y una longitud máxima `n`. Esta función debe devolver una lista solo con las palabras que son más cortas que `n`:"
   ]
  },
  {
   "cell_type": "code",
   "execution_count": 8,
   "metadata": {},
   "outputs": [
    {
     "name": "stdout",
     "output_type": "stream",
     "text": [
      "no existe ninguna palabra en la lista con longitud menor a:  3\n",
      "[]\n"
     ]
    }
   ],
   "source": [
    "lista_palabras = ['hola', 'pepito','manolito']\n",
    "n = 5\n",
    "lista_def = []\n",
    "\n",
    "def filtrar_palabras_largas(lista_palabras, n):\n",
    "    for i in lista_palabras:\n",
    "        if len(i) < n:\n",
    "                lista_def.append(i)\n",
    "        else:\n",
    "            if len(lista_def)==0:\n",
    "                print('no existe ninguna palabra en la lista con longitud menor a: ', n)\n",
    "                break\n",
    "    print(lista_def)\n",
    "            \n",
    "filtrar_palabras_largas(lista_palabras,3)      \n"
   ]
  },
  {
   "cell_type": "markdown",
   "metadata": {},
   "source": [
    "#### 9. Escribe una función `desv_tipica` que tome como argumento una distribución (lista) de números y devuelva la desviación típica. *Nota: aquí no vale utilizar Numpy ni pandas*:"
   ]
  },
  {
   "cell_type": "markdown",
   "metadata": {},
   "source": [
    "Voy a realizar dos versiones para calcular la desciacion tipica. En primer lugar utñizando la formula clasica, y en segundo lugar importando una libreria y aplicando una funcion de esa libreria."
   ]
  },
  {
   "cell_type": "code",
   "execution_count": 9,
   "metadata": {},
   "outputs": [
    {
     "name": "stdout",
     "output_type": "stream",
     "text": [
      "9394.069\n"
     ]
    }
   ],
   "source": [
    "import math\n",
    "\n",
    "def desv_tipica(lista):\n",
    "    media = sum(lista) / len(lista)\n",
    "    distancias = []\n",
    "    for numero in lista:\n",
    "        distancias.append((numero - media) ** 2)  \n",
    "        varian = ((sum(distancias)) / len(lista))\n",
    "        desv_tip = math.sqrt(varian)\n",
    "    return desv_tip\n",
    "\n",
    "lista = [5,6,8,6,1,8,4,10,8,7,11,12,15,100,200,1000,40000]\n",
    "\n",
    "print(round(desv_tipica(lista), 3))"
   ]
  },
  {
   "cell_type": "code",
   "execution_count": 11,
   "metadata": {},
   "outputs": [
    {
     "name": "stdout",
     "output_type": "stream",
     "text": [
      "9394.069\n"
     ]
    }
   ],
   "source": [
    "import statistics as stats\n",
    "lista = [5,6,8,6,1,8,4,10,8,7,11,12,15,100,200,1000,40000]\n",
    "print(round(stats.pstdev(lista), 3))  "
   ]
  },
  {
   "cell_type": "markdown",
   "metadata": {},
   "source": [
    "#### 10. Escribe una función `suma_hasta_el_primo` que tome como argumento una lista de números y:\n",
    "+ Vaya recorriendo la lista de izquierda a derecha.\n",
    "+ Si un número no es primo, lo sumará a una `suma_acumulada`.\n",
    "+ Si un número es primo, se interrumpe la ejecución y se devuelve la `suma_acumulada` (sin sumar el número primo) hasta el momento.\n",
    "\n",
    "*Pista:* igual te resulta más sencillo escribir dos funciones: una que chequee si un número es primo o no, y luego ya `suma_hasta_el_primo`, y que utilice internamente esa función de chequear primos."
   ]
  },
  {
   "cell_type": "code",
   "execution_count": 13,
   "metadata": {},
   "outputs": [
    {
     "name": "stdout",
     "output_type": "stream",
     "text": [
      "0\n"
     ]
    }
   ],
   "source": [
    "lista = [2,3,4,5,6,7,8,9]\n",
    "no_primos = []\n",
    "primos = []\n",
    "\n",
    "def es_primo(lista): \n",
    "    for i in lista:\n",
    "        if i<2:\n",
    "            no_primos.append(i)\n",
    "            \n",
    "        elif i==2:\n",
    "            primos.append(i)\n",
    "            \n",
    "        else:\n",
    "            for n in range(2,i):\n",
    "                if i%n == 0:\n",
    "                    no_primos.append(i)\n",
    "                    break\n",
    "                    \n",
    "                elif(n == i-1):\n",
    "                    primos.append(i)\n",
    "                    \n",
    "    #print(primos)\n",
    "    #print(no_primos)\n",
    "    \n",
    "es_primo(lista)\n",
    "    \n",
    "def suma_hasta_que_el_primo_reviente(lista):\n",
    "    resultado = 0\n",
    "    for i in lista:\n",
    "        if i in primos:\n",
    "            break\n",
    "        else:\n",
    "            resultado = resultado + i\n",
    "    print(resultado)       \n",
    "    \n",
    "suma_hasta_que_el_primo_reviente(lista)\n"
   ]
  },
  {
   "cell_type": "markdown",
   "metadata": {},
   "source": [
    "####  11. Escribe una función `juego_de_numero` que:\n",
    "+ Tome como argumento un número (entero).\n",
    "+ Si el número es par, divídelo por 2.\n",
    "+ Si es impar, multiplícalo por 3 y súmale 1.\n",
    "+ Continúa haciéndolo hasta que tu resultado sea 1.\n",
    "+ Devuelve el número de \"números visitados\", incluyendo el inicial y el 1.\n",
    "\n",
    "Por ejemplo: si llamamos a `juego_de_numero(3)`, la secuencia es 3-10-5-16-8-4-2-1."
   ]
  },
  {
   "cell_type": "code",
   "execution_count": 14,
   "metadata": {},
   "outputs": [
    {
     "data": {
      "text/plain": [
       "[3, 10, 5, 16, 8, 4, 2, 1]"
      ]
     },
     "execution_count": 14,
     "metadata": {},
     "output_type": "execute_result"
    }
   ],
   "source": [
    "def juego_de_numero(numero):\n",
    "    numeros_visitados=[numero]\n",
    "    while numero > 1:\n",
    "        if numero % 2 == 0:\n",
    "            numero = (numero/2)\n",
    "            numeros_visitados.append(int(numero))\n",
    "        else:\n",
    "            numero = ((numero * 3)+1)\n",
    "            numeros_visitados.append(int(numero))\n",
    "    return numeros_visitados        \n",
    "    \n",
    "      \n",
    "juego_de_numero(3)      "
   ]
  },
  {
   "cell_type": "markdown",
   "metadata": {},
   "source": [
    "#### 12. Si probamos `juego_de_numero` con todos los números del 1 al 100, ¿cuál es el que da más \"números visitados\"?"
   ]
  },
  {
   "cell_type": "code",
   "execution_count": 15,
   "metadata": {},
   "outputs": [
    {
     "name": "stdout",
     "output_type": "stream",
     "text": [
      "97\n"
     ]
    }
   ],
   "source": [
    "def juego_de_numero(numero):\n",
    "    numeros_visitados=[numero]\n",
    "    while numero > 1:\n",
    "        if numero % 2 == 0:\n",
    "            numero = (numero/2)\n",
    "            numeros_visitados.append(int(numero))\n",
    "        else:\n",
    "            numero = ((numero * 3)+1)\n",
    "            numeros_visitados.append(int(numero))\n",
    "    return numeros_visitados        \n",
    "    \n",
    "      \n",
    "#print(juego_de_numero(21))\n",
    "\n",
    "listas_de_numeros = []\n",
    "for i in range(1,101):\n",
    "    listas_de_numeros.append(juego_de_numero(i))\n",
    "    \n",
    "#print(listas_de_numeros)\n",
    "\n",
    "lista_de_longitudes_numeros = []\n",
    "for j in range(0, len(listas_de_numeros)):\n",
    "    lista_de_longitudes_numeros.append((len(listas_de_numeros[j])))\n",
    "    \n",
    "#print(lista_de_longitudes)\n",
    "\n",
    "for h in listas_de_numeros:\n",
    "    if len(h) == max(lista_de_longitudes_numeros):\n",
    "        print(h[0])#97 es el numero con la lista mas larga"
   ]
  },
  {
   "cell_type": "markdown",
   "metadata": {},
   "source": [
    "#### 13. Consigue en una sola línea de código averiguar cuántos elementos distintos hay en la siguiente lista de 300 elementos:"
   ]
  },
  {
   "cell_type": "markdown",
   "metadata": {},
   "source": [
    "Voy a realizar dos formas de hacer el ejercicio en un solo comando"
   ]
  },
  {
   "cell_type": "code",
   "execution_count": 16,
   "metadata": {},
   "outputs": [],
   "source": [
    "la_lista = ['da', 'e', 'e', 'eccebd', 'fdfdce', 'ad', 'dadcd', 'baadede', 'ebb', 'f', 'acbdf', 'eeccb', 'fe', \n",
    "            'fcffbcc', 'dffadd', 'cbdeca', 'ff', 'aa', 'cbfe', 'aedaaf', 'd', 'efbfd', 'efaaee', 'dae', \n",
    "            'befdeb', 'daaecd', 'b', 'dddd', 'cae', 'ac', 'fee', 'ada', 'dbae', 'adfedd', 'e', 'ddaefca', \n",
    "            'bf', 'ddeceee', 'aae', 'bedbe', 'caafddf', 'ba', 'dcdf', 'edefcbd', 'cfdcb', 'dcbf', \n",
    "            'cfccefe', 'fd', 'fdae', 'eb', 'add', 'afaa', 'cdedabf', 'fdbebe', 'dfeae', 'debcca', \n",
    "            'eae', 'bfeddec', 'ccbbbb', 'af', 'c', 'ddcea', 'dabddf', 'efcaec', 'cec', 'bdfce', \n",
    "            'bacccdd', 'af', 'dd', 'c', 'acfdea', 'bacfc', 'bedaf', 'dfc', 'cefdbc', 'ebefc', 'cee', \n",
    "            'decacef', 'cfccddb', 'c', 'ebfb', 'acfb', 'c', 'aeede', 'fed', 'fabc', 'fcfb', 'ad', 'bc', \n",
    "            'aaadcd', 'cf', 'a', 'bc', 'ecaabcc', 'eeebce', 'eba', 'dfcaf', 'f', 'bcd', 'cc', 'daecffd', \n",
    "            'f', 'def', 'ebc', 'bcbcd', 'a', 'dbae', 'a', 'dbfdd', 'bdbbff', 'bacacdc', 'd', 'acfaab', 'f', \n",
    "            'dccfeba', 'dccf', 'defcce', 'cbbfbce', 'abddf', 'aaed', 'abfc', 'acab', 'bdceae', 'fc', 'cfdb', \n",
    "            'adbdb', 'e', 'cdbabf', 'fbaae', 'eaabda', 'bcdfea', 'bdcfaeb', 'afaccb', 'aa', 'fbdd', 'bae', \n",
    "            'b', 'ccdefc', 'c', 'fcffaa', 'aadeeb', 'ea', 'fcdfbf', 'fa', 'eccf', 'dcbcee', 'cbbd', 'fedcd', \n",
    "            'eeeec', 'aaafcbb', 'fafa', 'beaab', 'ecdf', 'cceaaf', 'dafdcf', 'cbfe', 'ff', 'd', 'e', 'ebcdb', \n",
    "            'ecb', 'f', 'bafb', 'dacdbf', 'ccd', 'abcc', 'ed', 'ddcdeb', 'bcb', 'cefbec', 'e', 'cddeb', \n",
    "            'eacccea', 'f', 'faeaaef', 'ddd', 'dfb', 'bda', 'acdf', 'fcffa', 'a', 'fc', 'baffac', 'efadfca', \n",
    "            'e', 'fb', 'bedfbd', 'eb', 'ceaece', 'fdcbfea', 'fda', 'fbbebf', 'cecbffa', 'beabecc', 'eddfc', \n",
    "            'bab', 'abfe', 'ab', 'bdada', 'ccdf', 'bfeaeaa', 'ac', 'eb', 'fbbbf', 'ddab', 'baddadd', 'bcbebec', \n",
    "            'afbaca', 'aa', 'db', 'aafcff', 'eabcadb', 'fe', 'adc', 'eabacbd', 'ffccdd', 'dbfdcc', 'cff', 'fbb', \n",
    "            'fadd', 'cbcb', 'bfeacde', 'feed', 'fbae', 'debb', 'dffe', 'de', 'eaeefc', 'ccedfb', 'eefb', \n",
    "            'fdddfd', 'fdfee', 'cbecfd', 'f', 'e', 'e', 'bcfafe', 'fdfaef', 'ddbad', 'cbee', 'a', 'dec', 'fd', \n",
    "            'd', 'dee', 'daadcd', 'fbaaab', 'b', 'f', 'cabffd', 'edfd', 'fafccbc', 'cbdbad', 'ceaadae', \n",
    "            'eafdfd', 'abebfc', 'b', 'bdbeffe', 'aabcabd', 'fcbaab', 'dae', 'd', 'fdccbd', 'eaedfd', 'dbbc', \n",
    "            'fb', 'bcddb', 'abddac', 'da', 'abedf', 'fa', 'ccbaa', 'efae', 'abd', 'aebe', 'cdcd', 'd', 'abcc', \n",
    "            'edccba', 'dedd', 'a', 'b', 'a', 'd', 'fbbdefd', 'ccfdcae', 'aaabd', 'cdbffb', 'fcdfcef', 'cfbae', \n",
    "            'a', 'ebe', 'c', 'b', 'afdcacb', 'ad', 'ffaeb', 'a', 'dfffdea', 'bfa']\n",
    "\n",
    "# En una sola línea, ¿eh?:\n"
   ]
  },
  {
   "cell_type": "code",
   "execution_count": null,
   "metadata": {},
   "outputs": [],
   "source": [
    "print(len(dict.fromkeys(la_lista).keys()))#la idea es como los diccionarios no pueden teenr claves duplicadas,\n",
    "                                        #creo un diccionario tal que cada una de sus claves,es un elemento de la\n",
    "                                        # lista. Con el metodo keys se obtiene una lista de claves, y le pido \n",
    "                                        #la longitus de esa lista, por tanto 241 elementos diferentes.\n",
    "            \n",
    "#voy  realizrlo en otra linea de codigo.\n",
    "len(list(set(la_lista)))#Los conjuntos tampoco pueden tener eltos repetidos, por lo que se eliminanlos duplicados\n",
    "                        #realizo una lista de esos eltos del cunjunto no duplicados y le pido el numero de eltos\n",
    "                        #241"
   ]
  },
  {
   "cell_type": "markdown",
   "metadata": {},
   "source": [
    "#### 14. Escribe una función `word_frequency` en la que, dada una colección (lista) de palabras (que pueden repetirse), devuelva un conjunto de pares (`palabra`, `número de veces que aparece dicha palabra en la colección`):"
   ]
  },
  {
   "cell_type": "code",
   "execution_count": null,
   "metadata": {
    "collapsed": true
   },
   "outputs": [],
   "source": [
    "mi_lista = ['hola', 'hola', 'que', 'tal']\n",
    "\n",
    "def word_frequency(lista):\n",
    "    for i in lista:\n",
    "        counter=collections.Counter(lista)\n",
    "    print(counter)\n",
    "\n",
    "word_frequency(mi_lista)"
   ]
  },
  {
   "cell_type": "markdown",
   "metadata": {},
   "source": [
    "#### 15. Crea una clase llamada `CarritoDeLaCompra` que satisfaga las siguientes condiciones:\n",
    "+ Un carrito, nada más creado (es decir, al crear una instancia), está vacío.\n",
    "+ El carrito tiene un método llamado `anadir_producto`, que toma como argumentos un string que es el nombre de un artículo (por ejemplo: `\"plátanos\"`) y la cantidad. Este método añade dicho producto y cantidad al carrito.\n",
    "+ Asimismo, tiene otro método llamado `quitar_producto`, que toma los mismos argumentos (producto y cantidad); pero los quita del carrito en vez de añadirlos. Si se \"pide\" quitar mayor cantidad que la que hay en el carrito, o de un producto que no está en el carrito, no se hace la operación, y se imprime un string de error.\n",
    "+ En cualquier momento debe poder utilizarse el método `ver_carrito`, y debe devolver los productos presentes en el carrito, así como su cantidad. Solo debe devolver cada producto una vez, es decir: si hicimos `anadir_producto(\"tomates\", 2)` y luego `anadir_producto(\"tomates\", 3)`, `ver_carrito` solo debe devolver algo similar a `[(\"tomates\", 5)]`.\n",
    "\n",
    "Una vez definida la clase, crea una instancia de ella y prueba a ir añadiendo, quitando y mirando el carrito."
   ]
  },
  {
   "cell_type": "markdown",
   "metadata": {},
   "source": [
    "## No he podido sacar por mi mismo este ejercicio usando la clave y metodos, lo he visto terminado pero lo entiendo, pero no le sacado yo, asi que no veo bien ponerlo sino lo he hecho yo. Prefiero poner este que si lo he hecho y lo entiendo. "
   ]
  },
  {
   "cell_type": "code",
   "execution_count": null,
   "metadata": {
    "collapsed": true
   },
   "outputs": [],
   "source": [
    "carrito_compra = {}\n",
    "print('''\n",
    "OPCIONES DEL CARRITO DE LA COMPRA\n",
    "_________________________________\n",
    "\n",
    "1: Agrega producto al carrito\n",
    "2: Retira producto al carrito\n",
    "3: Ver productos del carrito\n",
    "0: Salir del programa\n",
    "\n",
    "''')\n",
    "\n",
    "opcion = int(input('Introduzca una opcion: '))\n",
    "\n",
    "while opcion !=0:\n",
    "    if opcion == 1:\n",
    "        producto = input('introduzca un producto: ')\n",
    "        \n",
    "        if producto in carrito_compra:\n",
    "            print('producto intruducido en el carrito de la compra')\n",
    "            cantidad = int(input('introduzca la cantidad: '))\n",
    "            carrito_compra[producto] = carrito_compra[producto] + cantidad\n",
    "        else:\n",
    "            cantidad = int(input('Introduzca la cantidad: '))\n",
    "            carrito_compra[producto]=cantidad\n",
    "            \n",
    "    elif opcion == 2 :\n",
    "        producto = input('introduzca nombre del producto para sacar del carrito: ')\n",
    "        del(carrito_compra[producto])\n",
    "    \n",
    "    elif opcion == 3 :\n",
    "        for producto in carrito_compra:\n",
    "            print('El carrito de la compra contiene: ')\n",
    "            print(producto,':',carrito_compra[producto])\n",
    "\n",
    "    elif opcion !=0 :\n",
    "        print('no has introducido una opcion correcta')\n",
    "    \n",
    "    opcion = int(input('\\n\\n Introduzca una opcion: '))\n",
    "else:\n",
    "    print('saliendo del programa')\n",
    "    "
   ]
  }
 ],
 "metadata": {
  "kernelspec": {
   "display_name": "Python 3",
   "language": "python",
   "name": "python3"
  },
  "language_info": {
   "codemirror_mode": {
    "name": "ipython",
    "version": 3
   },
   "file_extension": ".py",
   "mimetype": "text/x-python",
   "name": "python",
   "nbconvert_exporter": "python",
   "pygments_lexer": "ipython3",
   "version": "3.7.7"
  }
 },
 "nbformat": 4,
 "nbformat_minor": 1
}
